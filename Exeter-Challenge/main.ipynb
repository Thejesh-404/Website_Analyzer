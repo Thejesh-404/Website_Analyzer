{
 "cells": [
  {
   "cell_type": "code",
   "execution_count": 1,
   "metadata": {},
   "outputs": [],
   "source": [
    "import requests\n",
    "import bs4\n",
    "import pandas as pd\n",
    "from urllib.parse import urlparse, urljoin\n",
    "import ngram_value\n",
    "import size"
   ]
  },
  {
   "cell_type": "code",
   "execution_count": 2,
   "metadata": {},
   "outputs": [
    {
     "name": "stdout",
     "output_type": "stream",
     "text": [
      "Enter the url :https://www.udacity.com/\n"
     ]
    }
   ],
   "source": [
    "url = input('Enter the url :')"
   ]
  },
  {
   "cell_type": "code",
   "execution_count": 3,
   "metadata": {},
   "outputs": [],
   "source": [
    "# adds (http://)  if not included\n",
    "if 'http://' in url or 'https://' in url:\n",
    "    pass\n",
    "else:\n",
    "    url = 'http://' + url    "
   ]
  },
  {
   "cell_type": "code",
   "execution_count": 4,
   "metadata": {},
   "outputs": [
    {
     "data": {
      "text/plain": [
       "'https://www.udacity.com/'"
      ]
     },
     "execution_count": 4,
     "metadata": {},
     "output_type": "execute_result"
    }
   ],
   "source": [
    "url"
   ]
  },
  {
   "cell_type": "code",
   "execution_count": 5,
   "metadata": {},
   "outputs": [],
   "source": [
    "domain_name = urlparse(url).netloc   # returns the domain name of the website"
   ]
  },
  {
   "cell_type": "code",
   "execution_count": 6,
   "metadata": {},
   "outputs": [],
   "source": [
    "#checks whether link is valid or not\n",
    "def check_url(url):\n",
    "    try:\n",
    "        response = requests.get(url)\n",
    "        #print(\"URL is valid and exists on the Internet\")\n",
    "        return True\n",
    "    except:\n",
    "        print(\"URL does not exist on the Internet\")\n",
    "        return False"
   ]
  },
  {
   "cell_type": "code",
   "execution_count": 7,
   "metadata": {},
   "outputs": [
    {
     "data": {
      "text/plain": [
       "True"
      ]
     },
     "execution_count": 7,
     "metadata": {},
     "output_type": "execute_result"
    }
   ],
   "source": [
    "check_url(url)"
   ]
  },
  {
   "cell_type": "code",
   "execution_count": 9,
   "metadata": {},
   "outputs": [],
   "source": [
    "# returns the homepage of the web_link\n",
    "def home_page(url):\n",
    "    count = 0\n",
    "    url = url + '/'\n",
    "    url_len = len(url)\n",
    "    for i in range(url_len):\n",
    "        if '/' == url[i]:\n",
    "            count +=1\n",
    "            if count == 3:\n",
    "                break\n",
    "    return i    "
   ]
  },
  {
   "cell_type": "code",
   "execution_count": 10,
   "metadata": {},
   "outputs": [
    {
     "name": "stdout",
     "output_type": "stream",
     "text": [
      "https://www.udacity.com\n"
     ]
    }
   ],
   "source": [
    "val = home_page(url)\n",
    "url = url[0:val]\n",
    "print(url)"
   ]
  },
  {
   "cell_type": "code",
   "execution_count": 11,
   "metadata": {},
   "outputs": [],
   "source": [
    "#finding all the links \n",
    "\n",
    "valid_link = set()  # set variable to remove duplicate values\n",
    "\n",
    "def link_gen(url):\n",
    "    \n",
    "    res = requests.get(url)\n",
    "    soup = bs4.BeautifulSoup(res.text,'lxml')\n",
    "    \n",
    "    for link in soup.find_all('a',href=True):                            # loop through all links\n",
    "        \n",
    "        first_char = link['href'][0]\n",
    "        \n",
    "        if (check_url(link['href']) and  '#' not in link['href'][0]):    # excluding garbage link\n",
    "            if first_char != '/':\n",
    "                valid_link.add(link['href'])\n",
    "                #print(link['href'])\n",
    "        \n",
    "        if first_char == '/':                                            # adding url to few internal link                                      \n",
    "            final_link = url + link['href']\n",
    "            valid_link.add(final_link)\n",
    "            #print(final_link)\n",
    "                "
   ]
  },
  {
   "cell_type": "code",
   "execution_count": 12,
   "metadata": {},
   "outputs": [
    {
     "name": "stdout",
     "output_type": "stream",
     "text": [
      "URL does not exist on the Internet\n",
      "URL does not exist on the Internet\n",
      "URL does not exist on the Internet\n",
      "URL does not exist on the Internet\n",
      "URL does not exist on the Internet\n",
      "URL does not exist on the Internet\n",
      "URL does not exist on the Internet\n",
      "URL does not exist on the Internet\n",
      "URL does not exist on the Internet\n",
      "URL does not exist on the Internet\n",
      "URL does not exist on the Internet\n",
      "URL does not exist on the Internet\n",
      "URL does not exist on the Internet\n",
      "URL does not exist on the Internet\n",
      "URL does not exist on the Internet\n",
      "URL does not exist on the Internet\n",
      "URL does not exist on the Internet\n",
      "URL does not exist on the Internet\n",
      "URL does not exist on the Internet\n",
      "URL does not exist on the Internet\n"
     ]
    }
   ],
   "source": [
    "link_gen(url)"
   ]
  },
  {
   "cell_type": "code",
   "execution_count": 13,
   "metadata": {},
   "outputs": [],
   "source": [
    "valid_num = len(valid_link)  # no of valid links"
   ]
  },
  {
   "cell_type": "code",
   "execution_count": 14,
   "metadata": {},
   "outputs": [],
   "source": [
    "# necessary list variables to store data in csv\n",
    "\n",
    "internal_links = []\n",
    "external_links = []\n",
    "\n",
    "title_tag = []\n",
    "meta_value = []\n",
    "internal_value = []\n",
    "external_value = []\n",
    "uni_value = []\n",
    "bi_value = []\n",
    "size_value = []\n",
    "\n",
    "\n",
    "\n",
    "\n",
    "def get_title(valid_link):\n",
    "    \n",
    "    for link in valid_link:                                 # looping through all valid link\n",
    "        \n",
    "        try:\n",
    "            res = requests.get(link)                        # try except block if it throws error\n",
    "            soup = bs4.BeautifulSoup(res.text,'lxml')\n",
    "        except:\n",
    "            continue\n",
    "        \n",
    "        \n",
    "        if len(soup.select('title')) != 0:                 # selecting title of the webpage and storing it in list\n",
    "            title_tag.append(soup.select('title')[0].text)\n",
    "        else:\n",
    "            title_tag.append('N/A')\n",
    "        \n",
    "        \n",
    "        description = soup.find('meta', attrs={'name':'og:description'}) or soup.find('meta', attrs={'property':'description'}) or soup.find('meta', attrs={'name':'description'})\n",
    "        if description:                                   # adding desc from meta tag to list\n",
    "           description_text = description.get('content')\n",
    "        else:\n",
    "            description_text = 'N/A'\n",
    "            \n",
    "        meta_value.append(description_text)\n",
    "        \n",
    "        \n",
    "        \n",
    "        if domain_name in link:                           # classfying the internal and external links                      \n",
    "            internal_links.append(link)\n",
    "            internal_value.append('yes')\n",
    "            external_value.append('no')\n",
    "        else:\n",
    "            external_links.append(link)\n",
    "            internal_value.append('no')\n",
    "            external_value.append('yes')\n",
    "        \n",
    "        a,b = ngram_value.uni_bi_values(link)            # appending unigrams,bigrams\n",
    "        uni_value.append(a)\n",
    "        bi_value.append(b)\n",
    "        \n",
    "        \n",
    "        temp = size.total_size(link)                    # adding size of the web page to list\n",
    "        size_value.append(temp)\n",
    "            \n",
    "        \n",
    "            \n",
    "        \n",
    "        \n",
    "        \n",
    "        \n",
    "        \n",
    "    "
   ]
  },
  {
   "cell_type": "code",
   "execution_count": 15,
   "metadata": {},
   "outputs": [
    {
     "name": "stdout",
     "output_type": "stream",
     "text": [
      "https://www.udacity.com/course/ux-designer-nanodegree--nd578\n",
      "Denied\n",
      "https://www.udacity.com/school-of-ai\n",
      "Denied\n",
      "https://www.udacity.com/course/data-visualization-nanodegree--nd197\n",
      "Denied\n",
      "https://www.udacity.com/scholarships\n",
      "Denied\n",
      "https://www.instagram.com/udacity/\n",
      "https://www.udacity.com/course/ai-for-healthcare-nanodegree--nd320\n",
      "Denied\n",
      "https://www.udacity.com/course/aws-cloud-architect-nanodegree--nd063\n",
      "Denied\n",
      "https://www.udacity.com/course/intro-to-programming-nanodegree--nd000\n",
      "Denied\n",
      "https://www.udacity.com/school-of-autonomous-systems\n",
      "Denied\n",
      "https://www.udacity.com/course/data-analyst-nanodegree--nd002\n",
      "Denied\n",
      "https://www.udacity.com/course/intel-edge-ai-for-iot-developers-nanodegree--nd131\n",
      "Denied\n",
      "https://www.udacity.com/course/deep-learning-nanodegree--nd101\n",
      "Denied\n",
      "https://www.udacity.com/course/rpa-developer-nanodegree--nd340\n",
      "Denied\n",
      "https://www.udacity.com/course/data-streaming-nanodegree--nd029\n",
      "Denied\n",
      "https://www.udacity.com/course/ai-product-manager-nanodegree--nd088\n",
      "Denied\n",
      "https://www.udacity.com/course/data-structures-and-algorithms-nanodegree--nd256\n",
      "Denied\n",
      "https://www.udacity.com/georgia-tech\n",
      "Denied\n",
      "https://www.udacity.com/success\n",
      "Denied\n",
      "https://www.udacity.com/\n",
      "Denied\n",
      "https://www.udacity.com/course/c-plus-plus-nanodegree--nd213\n",
      "Denied\n",
      "https://www.udacity.com/course/product-manager-nanodegree--nd036\n",
      "Denied\n",
      "https://www.udacity.com/course/digital-marketing-nanodegree--nd018\n",
      "Denied\n",
      "https://www.udacity.com/course/business-analytics-nanodegree--nd098\n",
      "Denied\n",
      "https://www.udacity.com/school-of-data-science\n",
      "Denied\n",
      "https://www.udacity.com/course/developer-for-microsoft-azure-nanodegree--nd081\n",
      "Denied\n",
      "https://www.udacity.com/course/predictive-analytics-for-business-nanodegree--nd008\n",
      "Denied\n",
      "https://www.udacity.com/course/front-end-web-developer-nanodegree--nd0011\n",
      "Denied\n",
      "http://blog.udacity.com/\n",
      "Denied\n",
      "https://www.udacity.com/school-of-business\n",
      "Denied\n",
      "https://udacity.zendesk.com/hc/en-us\n",
      "Denied\n",
      "https://www.udacity.com/course/data-science-for-business-leaders--nd045\n",
      "Denied\n",
      "https://www.udacity.com/course/ios-developer-nanodegree--nd003\n",
      "Denied\n",
      "https://www.udacity.com/course/intro-to-cybersecurity-nanodegree--nd545\n",
      "Denied\n",
      "https://www.udacity.com/course/data-scientist-nanodegree--nd025\n",
      "Denied\n",
      "https://www.udacity.com/course/react-nanodegree--nd019\n",
      "Denied\n",
      "https://www.udacity.com/course/intermediate-javascript-nanodegree--nd032\n",
      "Denied\n",
      "https://www.udacity.com/course/programming-for-data-science-nanodegree-with-R--nd118\n",
      "Denied\n",
      "https://www.udacity.com/course/java-developer-nanodegree--nd035\n",
      "Denied\n",
      "https://medium.com/udacity\n",
      "Denied\n",
      "https://www.facebook.com/Udacity\n",
      "https://www.udacity.com/intersect\n",
      "Denied\n",
      "https://www.udacity.com/course/intro-to-machine-learning-with-tensorflow-nanodegree--nd230\n",
      "Denied\n",
      "https://www.udacity.com/know/ai\n",
      "Denied\n",
      "https://twitter.com/udacity\n",
      "https://www.udacity.com/course/hybrid-cloud-engineer-nanodegree--nd321\n",
      "Denied\n",
      "https://www.udacity.com/course/cloud-dev-ops-nanodegree--nd9991\n",
      "Denied\n",
      "https://www.udacity.com/tech-requirements\n",
      "Denied\n",
      "https://www.udacity.com/course/machine-learning-engineer-for-microsoft-azure-nanodegree--nd00333\n",
      "Denied\n",
      "https://www.udacity.com/contact\n",
      "Denied\n",
      "https://www.udacity.com/courses/all\n",
      "Denied\n",
      "https://www.udacity.com/enterprise/resources\n",
      "Denied\n",
      "https://www.udacity.com/newsroom\n",
      "Denied\n",
      "https://www.udacity.com/course/flying-car-nanodegree--nd787\n",
      "Denied\n",
      "https://www.udacity.com/course/marketing-analytics-nanodegree--nd028\n",
      "Denied\n",
      "https://www.udacity.com/course/cloud-developer-nanodegree--nd9990\n",
      "Denied\n",
      "https://www.udacity.com/enterprise\n",
      "Denied\n",
      "https://www.udacity.com/course/android-basics-nanodegree-by-google--nd803\n",
      "Denied\n",
      "https://www.udacity.com/course/growth-product-manager-nanodegree--nd037\n",
      "Denied\n",
      "https://www.udacity.com/career-services\n",
      "Denied\n",
      "https://auth.udacity.com/sign-up?next=https://classroom.udacity.com\n",
      "Denied\n",
      "https://www.udacity.com/talks\n",
      "Denied\n",
      "https://www.udacity.com/school-of-programming\n",
      "Denied\n",
      "https://www.udacity.com/course/learn-sql--nd072\n",
      "Denied\n",
      "https://www.linkedin.com/company/udacity\n",
      "Denied\n",
      "https://www.udacity.com/veterans\n",
      "Denied\n",
      "https://www.udacity.com/school-of-cloud-computing\n",
      "Denied\n",
      "https://www.udacity.com/sitemap\n",
      "Denied\n",
      "https://www.udacity.com/course/devops-engineer-for-microsoft-azure-nanodegree--nd082\n",
      "Denied\n",
      "https://www.udacity.com/course/intro-to-self-driving-cars--nd113\n",
      "Denied\n",
      "https://www.udacity.com/course/monetization-strategy--nd037-3\n",
      "Denied\n",
      "https://www.udacity.com/course/robotics-software-engineer--nd209\n",
      "Denied\n",
      "https://www.udacity.com/course/programming-for-data-science-nanodegree--nd104\n",
      "Denied\n",
      "https://www.udacity.com/instructors/build-with-udacity\n",
      "Denied\n",
      "http://status.udacity.com/\n",
      "https://www.udacity.com/course/full-stack-web-developer-nanodegree--nd0044\n",
      "Denied\n",
      "https://www.udacity.com/course/artificial-intelligence-nanodegree--nd889\n",
      "Denied\n",
      "https://www.udacity.com/course/machine-learning-engineer-nanodegree--nd009t\n",
      "Denied\n",
      "https://www.udacity.com/course/ai-for-business-leaders--nd054\n",
      "Denied\n",
      "https://www.udacity.com/course/sensor-fusion-engineer-nanodegree--nd313\n",
      "Denied\n",
      "https://www.udacity.com/course/data-engineer-nanodegree--nd027\n",
      "Denied\n",
      "https://www.udacity.com/legal\n",
      "Denied\n",
      "https://auth.udacity.com/sign-in?next=https://classroom.udacity.com\n",
      "Denied\n",
      "https://www.udacity.com/course/data-product-manager-nanodegree--nd030\n",
      "Denied\n",
      "https://www.udacity.com/course/agile-software-development-nanodegree--nd144\n",
      "Denied\n",
      "https://career-resource-center.udacity.com/\n",
      "Denied\n",
      "https://www.udacity.com/online-learning-hub/wfh\n",
      "Denied\n",
      "https://www.udacity.com/jobs\n",
      "Denied\n",
      "https://www.udacity.com/course/intro-to-machine-learning-nanodegree--nd229\n",
      "Denied\n",
      "https://www.udacity.com/us\n",
      "Denied\n",
      "https://www.udacity.com/course/android-kotlin-developer-nanodegree--nd940\n",
      "Denied\n"
     ]
    }
   ],
   "source": [
    "get_title(valid_link)"
   ]
  },
  {
   "cell_type": "code",
   "execution_count": 16,
   "metadata": {},
   "outputs": [],
   "source": [
    "new_valid_link = list(valid_link)   # set to list"
   ]
  },
  {
   "cell_type": "code",
   "execution_count": 17,
   "metadata": {},
   "outputs": [],
   "source": [
    "final_result = {}\n",
    "\n",
    "for i in range(valid_num):         # looping through each valid link and storing coresponding values\n",
    "    \n",
    "    final_result[i] = [new_valid_link[i],title_tag[i],meta_value[i],internal_value[i],external_value[i],uni_value[i],bi_value[i],size_value[i]] "
   ]
  },
  {
   "cell_type": "code",
   "execution_count": 18,
   "metadata": {},
   "outputs": [],
   "source": [
    "final_result_df = pd.DataFrame.from_dict(final_result,orient='index', columns=['Links','Title','Meta-data(DESC)','Internal','External','unigram','bi-gram','web-page size'])"
   ]
  },
  {
   "cell_type": "code",
   "execution_count": 19,
   "metadata": {},
   "outputs": [
    {
     "data": {
      "text/html": [
       "<div>\n",
       "<style scoped>\n",
       "    .dataframe tbody tr th:only-of-type {\n",
       "        vertical-align: middle;\n",
       "    }\n",
       "\n",
       "    .dataframe tbody tr th {\n",
       "        vertical-align: top;\n",
       "    }\n",
       "\n",
       "    .dataframe thead th {\n",
       "        text-align: right;\n",
       "    }\n",
       "</style>\n",
       "<table border=\"1\" class=\"dataframe\">\n",
       "  <thead>\n",
       "    <tr style=\"text-align: right;\">\n",
       "      <th></th>\n",
       "      <th>Links</th>\n",
       "      <th>Title</th>\n",
       "      <th>Meta-data(DESC)</th>\n",
       "      <th>Internal</th>\n",
       "      <th>External</th>\n",
       "      <th>unigram</th>\n",
       "      <th>bi-gram</th>\n",
       "      <th>web-page size</th>\n",
       "    </tr>\n",
       "  </thead>\n",
       "  <tbody>\n",
       "    <tr>\n",
       "      <th>85</th>\n",
       "      <td>https://www.udacity.com/online-learning-hub/wfh</td>\n",
       "      <td>Online Learning | Udacity</td>\n",
       "      <td>Many people are experiencing online learning f...</td>\n",
       "      <td>yes</td>\n",
       "      <td>no</td>\n",
       "      <td>[Â, program, Nanodegree, Udacity, Data, I, Lea...</td>\n",
       "      <td>[(MoreFree, ProgramFreeSchool), (ProgramFreeSc...</td>\n",
       "      <td>N/A</td>\n",
       "    </tr>\n",
       "    <tr>\n",
       "      <th>86</th>\n",
       "      <td>https://www.udacity.com/jobs</td>\n",
       "      <td>Jobs at Udacity</td>\n",
       "      <td>Join Udacity in our mission to democratize edu...</td>\n",
       "      <td>yes</td>\n",
       "      <td>no</td>\n",
       "      <td>[Â, program, Nanodegree, Udacity, Data, I, Lea...</td>\n",
       "      <td>[(MoreFree, ProgramFreeSchool), (ProgramFreeSc...</td>\n",
       "      <td>N/A</td>\n",
       "    </tr>\n",
       "    <tr>\n",
       "      <th>87</th>\n",
       "      <td>https://www.udacity.com/course/intro-to-machin...</td>\n",
       "      <td>Intro to Machine Learning with Pytorch Course</td>\n",
       "      <td>Learn foundational machine learning algorithms...</td>\n",
       "      <td>yes</td>\n",
       "      <td>no</td>\n",
       "      <td>[Â, program, Nanodegree, Udacity, Data, I, Lea...</td>\n",
       "      <td>[(MoreFree, ProgramFreeSchool), (ProgramFreeSc...</td>\n",
       "      <td>N/A</td>\n",
       "    </tr>\n",
       "    <tr>\n",
       "      <th>88</th>\n",
       "      <td>https://www.udacity.com/us</td>\n",
       "      <td>About | Udacity</td>\n",
       "      <td>Udacity is where lifelong learners come to lea...</td>\n",
       "      <td>yes</td>\n",
       "      <td>no</td>\n",
       "      <td>[Â, program, Nanodegree, Udacity, Data, I, Lea...</td>\n",
       "      <td>[(MoreFree, ProgramFreeSchool), (ProgramFreeSc...</td>\n",
       "      <td>N/A</td>\n",
       "    </tr>\n",
       "    <tr>\n",
       "      <th>89</th>\n",
       "      <td>https://www.udacity.com/course/android-kotlin-...</td>\n",
       "      <td>Android Kotlin Developer Online Course</td>\n",
       "      <td>Start your career as an Android Kotlin develop...</td>\n",
       "      <td>yes</td>\n",
       "      <td>no</td>\n",
       "      <td>[Â, program, Nanodegree, Udacity, Data, I, Lea...</td>\n",
       "      <td>[(MoreFree, ProgramFreeSchool), (ProgramFreeSc...</td>\n",
       "      <td>N/A</td>\n",
       "    </tr>\n",
       "  </tbody>\n",
       "</table>\n",
       "</div>"
      ],
      "text/plain": [
       "                                                Links  \\\n",
       "85    https://www.udacity.com/online-learning-hub/wfh   \n",
       "86                       https://www.udacity.com/jobs   \n",
       "87  https://www.udacity.com/course/intro-to-machin...   \n",
       "88                         https://www.udacity.com/us   \n",
       "89  https://www.udacity.com/course/android-kotlin-...   \n",
       "\n",
       "                                            Title  \\\n",
       "85                      Online Learning | Udacity   \n",
       "86                                Jobs at Udacity   \n",
       "87  Intro to Machine Learning with Pytorch Course   \n",
       "88                                About | Udacity   \n",
       "89         Android Kotlin Developer Online Course   \n",
       "\n",
       "                                      Meta-data(DESC) Internal External  \\\n",
       "85  Many people are experiencing online learning f...      yes       no   \n",
       "86  Join Udacity in our mission to democratize edu...      yes       no   \n",
       "87  Learn foundational machine learning algorithms...      yes       no   \n",
       "88  Udacity is where lifelong learners come to lea...      yes       no   \n",
       "89  Start your career as an Android Kotlin develop...      yes       no   \n",
       "\n",
       "                                              unigram  \\\n",
       "85  [Â, program, Nanodegree, Udacity, Data, I, Lea...   \n",
       "86  [Â, program, Nanodegree, Udacity, Data, I, Lea...   \n",
       "87  [Â, program, Nanodegree, Udacity, Data, I, Lea...   \n",
       "88  [Â, program, Nanodegree, Udacity, Data, I, Lea...   \n",
       "89  [Â, program, Nanodegree, Udacity, Data, I, Lea...   \n",
       "\n",
       "                                              bi-gram web-page size  \n",
       "85  [(MoreFree, ProgramFreeSchool), (ProgramFreeSc...           N/A  \n",
       "86  [(MoreFree, ProgramFreeSchool), (ProgramFreeSc...           N/A  \n",
       "87  [(MoreFree, ProgramFreeSchool), (ProgramFreeSc...           N/A  \n",
       "88  [(MoreFree, ProgramFreeSchool), (ProgramFreeSc...           N/A  \n",
       "89  [(MoreFree, ProgramFreeSchool), (ProgramFreeSc...           N/A  "
      ]
     },
     "execution_count": 19,
     "metadata": {},
     "output_type": "execute_result"
    }
   ],
   "source": [
    "final_result_df.tail()    #printing Df"
   ]
  },
  {
   "cell_type": "code",
   "execution_count": 20,
   "metadata": {},
   "outputs": [],
   "source": [
    "final_result_df.to_csv('udacity.csv')    #downloading csv file"
   ]
  },
  {
   "cell_type": "code",
   "execution_count": 26,
   "metadata": {},
   "outputs": [
    {
     "name": "stdout",
     "output_type": "stream",
     "text": [
      "No of Top level pages: 90\n"
     ]
    }
   ],
   "source": [
    "print('No of Top level pages: ' + str(valid_num))  # total top level pages"
   ]
  },
  {
   "cell_type": "code",
   "execution_count": 32,
   "metadata": {},
   "outputs": [
    {
     "name": "stdout",
     "output_type": "stream",
     "text": [
      "No of Internal links: 79\n"
     ]
    }
   ],
   "source": [
    "print('No of Internal links: ' + str(len(internal_links)))"
   ]
  },
  {
   "cell_type": "code",
   "execution_count": 31,
   "metadata": {},
   "outputs": [
    {
     "name": "stdout",
     "output_type": "stream",
     "text": [
      "No of Internal links:11\n"
     ]
    }
   ],
   "source": [
    "print('No of Internal links: ' + str(len(external_links)))"
   ]
  }
 ],
 "metadata": {
  "kernelspec": {
   "display_name": "Python 3",
   "language": "python",
   "name": "python3"
  },
  "language_info": {
   "codemirror_mode": {
    "name": "ipython",
    "version": 3
   },
   "file_extension": ".py",
   "mimetype": "text/x-python",
   "name": "python",
   "nbconvert_exporter": "python",
   "pygments_lexer": "ipython3",
   "version": "3.7.6"
  }
 },
 "nbformat": 4,
 "nbformat_minor": 4
}
